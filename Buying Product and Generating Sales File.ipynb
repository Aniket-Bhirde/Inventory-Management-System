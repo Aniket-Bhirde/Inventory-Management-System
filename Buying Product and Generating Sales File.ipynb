{
 "cells": [
  {
   "cell_type": "code",
   "execution_count": null,
   "metadata": {},
   "outputs": [],
   "source": [
    "import json"
   ]
  },
  {
   "cell_type": "code",
   "execution_count": null,
   "metadata": {},
   "outputs": [],
   "source": [
    "inventoryRead = open('Record.json','r')\n",
    "Data = inventoryRead.read()\n",
    "inventoryRead.close()"
   ]
  },
  {
   "cell_type": "code",
   "execution_count": null,
   "metadata": {},
   "outputs": [],
   "source": [
    "salesReader = open('Sales.json', 'r')\n",
    "boughtProductsT = json.loads(salesReader.read())\n",
    "salesReader.close()"
   ]
  },
  {
   "cell_type": "code",
   "execution_count": null,
   "metadata": {},
   "outputs": [],
   "source": [
    "readableData=json.loads(Data)\n",
    "frame=list()\n",
    "for i in readableData.keys():\n",
    "    frame.append(i)"
   ]
  },
  {
   "cell_type": "code",
   "execution_count": null,
   "metadata": {},
   "outputs": [],
   "source": [
    "TransactionID = int(max(boughtProductsT.keys()))"
   ]
  },
  {
   "cell_type": "code",
   "execution_count": null,
   "metadata": {},
   "outputs": [],
   "source": [
    "boughtProducts = {}\n",
    "print('{:12} {:25}       {:15}{:30}'.format('Product ID','Name','Price(Rs)','Weight (grams)'))\n",
    "for ID in frame:\n",
    "    print('  {:10} {:25} {:10}/-                {}gm\\n'.format(ID,readableData[ID]['Name'],readableData[ID]['Price'],readableData[ID][\"Weight (grams)\"]))\n",
    "print('Above is the list of products')\n",
    "while True:\n",
    "    Id = input('Enter the ID of product to be bought : ')\n",
    "    vAlue = Id in frame\n",
    "    if vAlue == True:\n",
    "        print('\\nName:{}\\tPrice:{}/-\\tQauntity Available:{}'.format(readableData[Id]['Name'],readableData[Id]['Price'],readableData[Id]['Quantity']))\n",
    "        quant = int(input('Enter the quantity of product you want to buy : '))\n",
    "        if quant <= readableData[Id]['Quantity']:\n",
    "            readableData[Id]['Quantity'] = readableData[Id]['Quantity'] - quant\n",
    "            TransactionID += 1\n",
    "            k = Id in boughtProducts.keys()\n",
    "            if k == True:\n",
    "                boughtProducts[Id]['Quantity Sold'] = boughtProducts[Id]['Quantity Sold'] + quant\n",
    "                boughtProducts[Id]['Amount'] = boughtProducts[Id]['Amount'] + quant*boughtProducts[Id]['Price']\n",
    "            else:\n",
    "                boughtProducts[Id] = {'Name' : readableData[Id]['Name'],\n",
    "                                      'Weight (grams)' : readableData[Id]['Weight (grams)'],\n",
    "                                      'Price' : readableData[Id]['Price'], 'Quantity Sold' : quant,\n",
    "                                      'Amount' : readableData[Id]['Price']*quant}\n",
    "            boughtProductsT[TransactionID] = {'Name' : readableData[Id]['Name'], \n",
    "                                              'Weight (grams)' : readableData[Id]['Weight (grams)'], \n",
    "                                              'Price' : readableData[Id]['Price'], 'Quantity Sold' : quant,\n",
    "                                              'Amount' : readableData[Id]['Price']*quant}\n",
    "            print('\\n{:25}         {:12}{:20}{:8}'.format('Name','Price','Quantity Ordered','Amount'))\n",
    "            for i in boughtProducts.keys():\n",
    "                print('{:25}{:12}{:20}      {:8}'.format(boughtProducts[i]['Name'],\n",
    "                                                         boughtProducts[i]['Price'],\n",
    "                                                         boughtProducts[i]['Quantity Sold'],\n",
    "                                                         boughtProducts[i]['Amount']))\n",
    "            quest = input('''\\nIf you want to buy more products press enter or\n",
    "            type \\'Q\\' to generate final bill : ''')\n",
    "            if quest.lower() == 'q':\n",
    "                      break\n",
    "        else:\n",
    "            print('''Entered quantity is greater than the available quantity.\n",
    "                  \\nEnter quantity based on availability.''')\n",
    "    else:\n",
    "        print('Entered Product ID is not available')\n",
    "print('\\n{:25}         {:12}{:20}{:8}'.format('Name','Price',\n",
    "                    'Quantity Ordered','Amount'))\n",
    "for i in boughtProducts.keys():\n",
    "    print('{:25}{:12}{:20}      {:8}'.format(boughtProducts[i]['Name'],\n",
    "                                             boughtProducts[i]['Price'],\n",
    "                                             boughtProducts[i]['Quantity Sold'],\n",
    "                                             boughtProducts[i]['Amount']))\n",
    "TotalAmount = 0\n",
    "for a in boughtProducts.keys():\n",
    "    TotalAmount = TotalAmount + boughtProducts[a]['Amount'] \n",
    "print('\\n{:25}{:28}{:5}     {:8}'.format(' ', ' ', 'Total', TotalAmount))\n",
    "print('Total amount to be paid is {}'.format(TotalAmount))"
   ]
  },
  {
   "cell_type": "code",
   "execution_count": null,
   "metadata": {},
   "outputs": [],
   "source": [
    "salesGenerator = open('Sales.json', 'w')\n",
    "salesGenerator.write(json.dumps(boughtProductsT, indent = 4))\n",
    "salesGenerator.close()\n",
    "print('Sales file has been generated')"
   ]
  },
  {
   "cell_type": "code",
   "execution_count": null,
   "metadata": {},
   "outputs": [],
   "source": [
    "inventoryUpdate = open('Record.json', 'w')\n",
    "inventoryUpdate.write(json.dumps(readableData, indent = 4))\n",
    "inventoryUpdate.close()"
   ]
  },
  {
   "cell_type": "code",
   "execution_count": null,
   "metadata": {},
   "outputs": [],
   "source": []
  }
 ],
 "metadata": {
  "kernelspec": {
   "display_name": "Python 3",
   "language": "python",
   "name": "python3"
  },
  "language_info": {
   "codemirror_mode": {
    "name": "ipython",
    "version": 3
   },
   "file_extension": ".py",
   "mimetype": "text/x-python",
   "name": "python",
   "nbconvert_exporter": "python",
   "pygments_lexer": "ipython3",
   "version": "3.8.3"
  }
 },
 "nbformat": 4,
 "nbformat_minor": 4
}
